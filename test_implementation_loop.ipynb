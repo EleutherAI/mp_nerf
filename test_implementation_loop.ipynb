{
 "cells": [
  {
   "cell_type": "code",
   "execution_count": 1,
   "metadata": {},
   "outputs": [],
   "source": [
    "import time\n",
    "# science\n",
    "import numpy as np\n",
    "import torch\n",
    "from einops import repeat, rearrange"
   ]
  },
  {
   "cell_type": "code",
   "execution_count": 2,
   "metadata": {},
   "outputs": [],
   "source": [
    "import joblib\n",
    "import sidechainnet"
   ]
  },
  {
   "cell_type": "code",
   "execution_count": 3,
   "metadata": {},
   "outputs": [],
   "source": [
    "from sidechainnet.utils.sequence import ProteinVocabulary as VOCAB\n",
    "VOCAB = VOCAB()"
   ]
  },
  {
   "cell_type": "markdown",
   "metadata": {},
   "source": [
    "### Load a protein in SCN format - you can skip this since a joblib file is provided"
   ]
  },
  {
   "cell_type": "code",
   "execution_count": 4,
   "metadata": {
    "scrolled": true
   },
   "outputs": [
    {
     "name": "stdout",
     "output_type": "stream",
     "text": [
      "SidechainNet was loaded from ./sidechainnet_data/sidechainnet_casp7_30.pkl.\n"
     ]
    },
    {
     "data": {
      "text/plain": [
       "dict_keys(['train', 'train-eval', 'test', 'valid-10', 'valid-20', 'valid-30', 'valid-40', 'valid-50', 'valid-70', 'valid-90'])"
      ]
     },
     "execution_count": 4,
     "metadata": {},
     "output_type": "execute_result"
    }
   ],
   "source": [
    "dataloaders = sidechainnet.load(casp_version=7, with_pytorch=\"dataloaders\")\n",
    "dataloaders.keys() # ['train', 'train_eval', 'valid-10', ..., 'valid-90', 'test']\n",
    "# ProteinDataset(casp_version=12, split='train', n_proteins=81454,\n",
    "#               created='Sep 20, 2020')"
   ]
  },
  {
   "cell_type": "code",
   "execution_count": 5,
   "metadata": {
    "scrolled": true
   },
   "outputs": [
    {
     "name": "stdout",
     "output_type": "stream",
     "text": [
      "seq len 219\n",
      "found a seq of length: 219 but below the threshold: 100\n",
      "found a seq of length: 219 but below the threshold: 100\n",
      "stopping at sequence of length 219\n",
      "219 torch.Size([219, 12]) tensor(False)\n",
      "paddings:  9 tensor(9)\n"
     ]
    }
   ],
   "source": [
    "min_len = 100\n",
    "for batch in dataloaders['train']:\n",
    "    real_seqs = [''.join([VOCAB.int2char(aa) for aa in seq]) for seq in batch.int_seqs.numpy()]\n",
    "    print(\"seq len\", len(real_seqs[0]))\n",
    "    try:\n",
    "        for i in range(len(batch.int_seqs.numpy())):\n",
    "            # get variables\n",
    "            seq     = real_seqs[i]\n",
    "            int_seq = batch.int_seqs[i]\n",
    "            angles  = batch.angs[i]\n",
    "            # get padding\n",
    "            padding_angles = (torch.abs(angles).sum(dim=-1) == 0).long().sum()\n",
    "            padding_seq    = (np.array([x for x in seq]) == \"_\").sum()\n",
    "            # only accept sequences with right dimensions and no missing coords\n",
    "            # if padding_seq == padding_angles:\n",
    "            # print(\"paddings_match\")\n",
    "            # print(\"len coords\", list(batch.crds[i].shape)[0]//3, \"vs int_seq\", len(int_seq))\n",
    "            if list(batch.crds[i].shape)[0]//14 == len(int_seq):\n",
    "                if len(seq) > min_len and padding_seq == padding_angles:\n",
    "                    print(\"stopping at sequence of length\", len(seq))\n",
    "                    print(len(seq), angles.shape, padding_seq == padding_angles == list(batch.crds[i].shape)[0]//3)\n",
    "                    print(\"paddings: \", padding_seq, padding_angles)\n",
    "                    raise StopIteration\n",
    "                else:\n",
    "                    print(\"found a seq of length:\", len(seq), \"but below the threshold:\", min_len)\n",
    "    except StopIteration:\n",
    "        break"
   ]
  },
  {
   "cell_type": "markdown",
   "metadata": {},
   "source": [
    "### Load joblib file"
   ]
  },
  {
   "cell_type": "code",
   "execution_count": 6,
   "metadata": {},
   "outputs": [],
   "source": [
    "# joblib.dump({\"seq\": seq, \"int_seq\": int_seq, \"angles\": angles,\n",
    "#              \"id\": batch.pids[i], \"true_coords\": batch.crds[i]}, \"experiments/112_aas_seq_and_angles.joblib\")\n",
    "info = joblib.load(\"experiments/344_aas_seq_and_angles.joblib\")\n",
    "seq, int_seq, angles, id_, true_coords = info[\"seq\"], info[\"int_seq\"], info[\"angles\"], info[\"id\"], info[\"true_coords\"]\n",
    "\n",
    "padding_angles = (torch.abs(angles).sum(dim=-1) == 0).long().sum()\n",
    "padding_seq    = (np.array([x for x in seq]) == \"_\").sum()"
   ]
  },
  {
   "cell_type": "markdown",
   "metadata": {},
   "source": [
    "### Load algo"
   ]
  },
  {
   "cell_type": "code",
   "execution_count": 7,
   "metadata": {},
   "outputs": [],
   "source": [
    "from massive_pnerf import *"
   ]
  },
  {
   "cell_type": "code",
   "execution_count": 8,
   "metadata": {},
   "outputs": [],
   "source": [
    "# measure time to featurize\n",
    "# %timeit build_scaffolds(seq[:-padding_seq], angles[:-padding_seq])"
   ]
  },
  {
   "cell_type": "code",
   "execution_count": 10,
   "metadata": {},
   "outputs": [],
   "source": [
    "# featurize\n",
    "scaffolds = build_scaffolds_from_scn_angles(seq[:-padding_seq], angles[:-padding_seq])\n",
    "# modify scaffolds with true data\n",
    "scaffolds_ = modify_scaffolds_with_coords(scaffolds, \n",
    "                                          rearrange(true_coords, '(l c) d -> l c d', c=14)[:-padding_seq])"
   ]
  },
  {
   "cell_type": "code",
   "execution_count": 11,
   "metadata": {},
   "outputs": [
    {
     "data": {
      "text/plain": [
       "(torch.Size([331, 14]), torch.Size([331, 14]))"
      ]
     },
     "execution_count": 11,
     "metadata": {},
     "output_type": "execute_result"
    }
   ],
   "source": [
    "scaffolds[\"bond_mask\"].shape, scaffolds_[\"bond_mask\"].shape"
   ]
  },
  {
   "cell_type": "code",
   "execution_count": 20,
   "metadata": {
    "scrolled": false
   },
   "outputs": [
    {
     "name": "stdout",
     "output_type": "stream",
     "text": [
      "0 RMSD is: 0.15417370200157166 || abs_error in 3 axis: tensor([0.0560, 0.0505, 0.0508])\n",
      "50 RMSD is: 0.3964884281158447 || abs_error in 3 axis: tensor([0.0889, 0.0644, 0.0852])\n",
      "100 RMSD is: 0.4209273159503937 || abs_error in 3 axis: tensor([0.0729, 0.1112, 0.0785])\n",
      "150 RMSD is: 0.406270831823349 || abs_error in 3 axis: tensor([0.0730, 0.0891, 0.0767])\n",
      "200 RMSD is: 0.40864863991737366 || abs_error in 3 axis: tensor([0.1160, 0.0948, 0.0600])\n",
      "250 RMSD is: 0.44030600786209106 || abs_error in 3 axis: tensor([0.0941, 0.0970, 0.0753])\n",
      "300 RMSD is: 0.45274293422698975 || abs_error in 3 axis: tensor([0.0917, 0.0837, 0.0802])\n",
      "350 RMSD is: 0.422430157661438 || abs_error in 3 axis: tensor([0.0868, 0.0859, 0.0779])\n",
      "400 RMSD is: 0.447654128074646 || abs_error in 3 axis: tensor([0.0842, 0.0918, 0.0870])\n",
      "450 RMSD is: 0.35498979687690735 || abs_error in 3 axis: tensor([0.0691, 0.0833, 0.0717])\n",
      "500 RMSD is: 0.37560588121414185 || abs_error in 3 axis: tensor([0.0703, 0.0724, 0.0913])\n",
      "550 RMSD is: 0.3494798541069031 || abs_error in 3 axis: tensor([0.0802, 0.0769, 0.0671])\n",
      "600 RMSD is: 0.3576918840408325 || abs_error in 3 axis: tensor([0.0796, 0.0730, 0.0761])\n",
      "650 RMSD is: 0.4737336337566376 || abs_error in 3 axis: tensor([0.1026, 0.0829, 0.0911])\n",
      "700 RMSD is: 0.43214336037635803 || abs_error in 3 axis: tensor([0.0873, 0.0830, 0.0852])\n",
      "750 RMSD is: 0.43158331513404846 || abs_error in 3 axis: tensor([0.0881, 0.0780, 0.0865])\n",
      "800 RMSD is: 0.4317764341831207 || abs_error in 3 axis: tensor([0.1003, 0.0809, 0.0903])\n",
      "850 RMSD is: 0.4475480616092682 || abs_error in 3 axis: tensor([0.0898, 0.0794, 0.1051])\n",
      "900 RMSD is: 0.3787538409233093 || abs_error in 3 axis: tensor([0.0907, 0.0803, 0.0909])\n",
      "950 RMSD is: 0.3275742530822754 || abs_error in 3 axis: tensor([0.0797, 0.0752, 0.0786])\n",
      "1000 RMSD is: 0.3829543888568878 || abs_error in 3 axis: tensor([0.0863, 0.0761, 0.0896])\n",
      "1050 RMSD is: 0.38012799620628357 || abs_error in 3 axis: tensor([0.0797, 0.0743, 0.0955])\n",
      "1100 RMSD is: 0.43873828649520874 || abs_error in 3 axis: tensor([0.1024, 0.0744, 0.1043])\n",
      "1150 RMSD is: 0.37016409635543823 || abs_error in 3 axis: tensor([0.0974, 0.0763, 0.0867])\n",
      "1200 RMSD is: 0.37711676955223083 || abs_error in 3 axis: tensor([0.0964, 0.0672, 0.0964])\n",
      "1250 RMSD is: 0.453553169965744 || abs_error in 3 axis: tensor([0.1080, 0.0734, 0.1095])\n",
      "1300 RMSD is: 0.4166854918003082 || abs_error in 3 axis: tensor([0.0965, 0.0783, 0.1048])\n",
      "1350 RMSD is: 0.48251092433929443 || abs_error in 3 axis: tensor([0.1093, 0.0854, 0.1169])\n",
      "1400 RMSD is: 0.424134761095047 || abs_error in 3 axis: tensor([0.1031, 0.0769, 0.1113])\n",
      "1450 RMSD is: 0.4052717983722687 || abs_error in 3 axis: tensor([0.0914, 0.0727, 0.1160])\n",
      "1500 RMSD is: 0.3717682957649231 || abs_error in 3 axis: tensor([0.1025, 0.0698, 0.0990])\n",
      "1550 RMSD is: 0.3367176651954651 || abs_error in 3 axis: tensor([0.0895, 0.0720, 0.1001])\n",
      "1600 RMSD is: 0.44675254821777344 || abs_error in 3 axis: tensor([0.1160, 0.0745, 0.1177])\n",
      "1650 RMSD is: 0.4238804280757904 || abs_error in 3 axis: tensor([0.1148, 0.0713, 0.1192])\n",
      "1700 RMSD is: 0.43322768807411194 || abs_error in 3 axis: tensor([0.1091, 0.0750, 0.1278])\n",
      "1750 RMSD is: 0.41525882482528687 || abs_error in 3 axis: tensor([0.1133, 0.0755, 0.1178])\n",
      "1800 RMSD is: 0.4179682731628418 || abs_error in 3 axis: tensor([0.1046, 0.0685, 0.1341])\n",
      "1850 RMSD is: 0.4685370624065399 || abs_error in 3 axis: tensor([0.1195, 0.0756, 0.1353])\n",
      "1900 RMSD is: 0.38164329528808594 || abs_error in 3 axis: tensor([0.1137, 0.0660, 0.1170])\n",
      "1950 RMSD is: 0.4180736541748047 || abs_error in 3 axis: tensor([0.1130, 0.0697, 0.1244])\n",
      "2000 RMSD is: 0.41863319277763367 || abs_error in 3 axis: tensor([0.1121, 0.0781, 0.1270])\n",
      "2050 RMSD is: 0.3966805934906006 || abs_error in 3 axis: tensor([0.1068, 0.0725, 0.1359])\n",
      "2100 RMSD is: 0.4526730179786682 || abs_error in 3 axis: tensor([0.1217, 0.0855, 0.1386])\n",
      "2150 RMSD is: 0.384012371301651 || abs_error in 3 axis: tensor([0.1101, 0.0726, 0.1327])\n",
      "2200 RMSD is: 0.4824742078781128 || abs_error in 3 axis: tensor([0.1250, 0.0767, 0.1577])\n",
      "2250 RMSD is: 0.4408530592918396 || abs_error in 3 axis: tensor([0.1179, 0.0897, 0.1380])\n",
      "2300 RMSD is: 0.3584415018558502 || abs_error in 3 axis: tensor([0.1080, 0.0739, 0.1352])\n",
      "2350 RMSD is: 0.41208988428115845 || abs_error in 3 axis: tensor([0.1278, 0.0694, 0.1345])\n",
      "2400 RMSD is: 0.3874349594116211 || abs_error in 3 axis: tensor([0.1175, 0.0777, 0.1356])\n",
      "2450 RMSD is: 0.48124662041664124 || abs_error in 3 axis: tensor([0.1356, 0.0823, 0.1530])\n",
      "2500 RMSD is: 0.44677650928497314 || abs_error in 3 axis: tensor([0.1337, 0.0867, 0.1319])\n",
      "2550 RMSD is: 0.43764162063598633 || abs_error in 3 axis: tensor([0.1373, 0.0825, 0.1456])\n",
      "2600 RMSD is: 0.4694208800792694 || abs_error in 3 axis: tensor([0.1335, 0.0774, 0.1617])\n",
      "2650 RMSD is: 0.3889724016189575 || abs_error in 3 axis: tensor([0.1208, 0.0766, 0.1535])\n",
      "2700 RMSD is: 0.40691089630126953 || abs_error in 3 axis: tensor([0.1224, 0.0792, 0.1573])\n",
      "2750 RMSD is: 0.3901364207267761 || abs_error in 3 axis: tensor([0.1209, 0.0763, 0.1584])\n",
      "2800 RMSD is: 0.41771426796913147 || abs_error in 3 axis: tensor([0.1215, 0.0754, 0.1624])\n",
      "2850 RMSD is: 0.4594440162181854 || abs_error in 3 axis: tensor([0.1307, 0.0888, 0.1638])\n",
      "2900 RMSD is: 0.41295507550239563 || abs_error in 3 axis: tensor([0.1284, 0.0927, 0.1464])\n",
      "2950 RMSD is: 0.410774827003479 || abs_error in 3 axis: tensor([0.1341, 0.0826, 0.1631])\n",
      "3000 RMSD is: 0.43195655941963196 || abs_error in 3 axis: tensor([0.1329, 0.0800, 0.1659])\n",
      "3050 RMSD is: 0.38820111751556396 || abs_error in 3 axis: tensor([0.1341, 0.0721, 0.1597])\n",
      "3100 RMSD is: 0.4520646333694458 || abs_error in 3 axis: tensor([0.1379, 0.0765, 0.1769])\n",
      "3150 RMSD is: 0.43730854988098145 || abs_error in 3 axis: tensor([0.1495, 0.0765, 0.1639])\n",
      "3200 RMSD is: 0.4500356912612915 || abs_error in 3 axis: tensor([0.1383, 0.0856, 0.1742])\n",
      "3250 RMSD is: 0.4487285017967224 || abs_error in 3 axis: tensor([0.1466, 0.0916, 0.1654])\n",
      "3300 RMSD is: 0.3749411404132843 || abs_error in 3 axis: tensor([0.1324, 0.0832, 0.1677])\n",
      "3350 RMSD is: 0.4440690279006958 || abs_error in 3 axis: tensor([0.1404, 0.0951, 0.1777])\n",
      "3400 RMSD is: 0.4640442430973053 || abs_error in 3 axis: tensor([0.1488, 0.0956, 0.1870])\n",
      "3450 RMSD is: 0.448359876871109 || abs_error in 3 axis: tensor([0.1496, 0.1005, 0.1751])\n",
      "3500 RMSD is: 0.43520528078079224 || abs_error in 3 axis: tensor([0.1482, 0.0827, 0.1799])\n",
      "3550 RMSD is: 0.4343990087509155 || abs_error in 3 axis: tensor([0.1475, 0.0841, 0.1814])\n",
      "3600 RMSD is: 0.43186378479003906 || abs_error in 3 axis: tensor([0.1334, 0.0907, 0.1955])\n",
      "3650 RMSD is: 0.45680704712867737 || abs_error in 3 axis: tensor([0.1526, 0.0934, 0.1930])\n",
      "3700 RMSD is: 0.3478897213935852 || abs_error in 3 axis: tensor([0.1357, 0.0944, 0.1669])\n",
      "3750 RMSD is: 0.4250142574310303 || abs_error in 3 axis: tensor([0.1488, 0.0888, 0.1908])\n",
      "3800 RMSD is: 0.48189350962638855 || abs_error in 3 axis: tensor([0.1599, 0.1022, 0.1972])\n",
      "3850 RMSD is: 0.4728323519229889 || abs_error in 3 axis: tensor([0.1625, 0.0917, 0.1920])\n",
      "3900 RMSD is: 0.4945264458656311 || abs_error in 3 axis: tensor([0.1657, 0.0888, 0.1976])\n",
      "3950 RMSD is: 0.48999953269958496 || abs_error in 3 axis: tensor([0.1769, 0.0971, 0.1982])\n",
      "4000 RMSD is: 0.48794156312942505 || abs_error in 3 axis: tensor([0.1540, 0.0988, 0.2190])\n",
      "4050 RMSD is: 0.4898964464664459 || abs_error in 3 axis: tensor([0.1759, 0.1083, 0.2045])\n",
      "4100 RMSD is: 0.35897621512413025 || abs_error in 3 axis: tensor([0.1442, 0.0896, 0.1913])\n",
      "4150 RMSD is: 0.4666033387184143 || abs_error in 3 axis: tensor([0.1588, 0.1041, 0.2171])\n",
      "4200 RMSD is: 0.4497661590576172 || abs_error in 3 axis: tensor([0.1576, 0.0930, 0.2095])\n",
      "4250 RMSD is: 0.4225752055644989 || abs_error in 3 axis: tensor([0.1614, 0.0998, 0.1995])\n",
      "4300 RMSD is: 0.4271836280822754 || abs_error in 3 axis: tensor([0.1526, 0.0880, 0.2065])\n",
      "4350 RMSD is: 0.48804789781570435 || abs_error in 3 axis: tensor([0.1741, 0.1053, 0.2147])\n",
      "4400 RMSD is: 0.41011831164360046 || abs_error in 3 axis: tensor([0.1459, 0.0936, 0.2160])\n",
      "4450 RMSD is: 0.44786936044692993 || abs_error in 3 axis: tensor([0.1707, 0.0962, 0.2158])\n",
      "4500 RMSD is: 0.3671250641345978 || abs_error in 3 axis: tensor([0.1585, 0.0980, 0.1991])\n"
     ]
    },
    {
     "name": "stdout",
     "output_type": "stream",
     "text": [
      "4550 RMSD is: 0.39772626757621765 || abs_error in 3 axis: tensor([0.1607, 0.0863, 0.2130])\n",
      "4600 RMSD is: 0.4647863805294037 || abs_error in 3 axis: tensor([0.1740, 0.0974, 0.2300])\n",
      "4650 RMSD is: 0.43309178948402405 || abs_error in 3 axis: tensor([0.1788, 0.1047, 0.2065])\n",
      "4700 RMSD is: 0.46063458919525146 || abs_error in 3 axis: tensor([0.1739, 0.1060, 0.2195])\n",
      "4750 RMSD is: 0.5327308177947998 || abs_error in 3 axis: tensor([0.1999, 0.1109, 0.2288])\n",
      "4800 RMSD is: 0.4800189733505249 || abs_error in 3 axis: tensor([0.1753, 0.1062, 0.2278])\n",
      "4850 RMSD is: 0.4666789174079895 || abs_error in 3 axis: tensor([0.1780, 0.0968, 0.2332])\n",
      "4900 RMSD is: 0.47721120715141296 || abs_error in 3 axis: tensor([0.1894, 0.1143, 0.2300])\n",
      "4950 RMSD is: 0.431517630815506 || abs_error in 3 axis: tensor([0.1738, 0.0952, 0.2374])\n",
      "5000 RMSD is: 0.504112184047699 || abs_error in 3 axis: tensor([0.1849, 0.1107, 0.2456])\n",
      "5050 RMSD is: 0.4198639988899231 || abs_error in 3 axis: tensor([0.1779, 0.1186, 0.2245])\n",
      "5100 RMSD is: 0.47974246740341187 || abs_error in 3 axis: tensor([0.1797, 0.1210, 0.2383])\n",
      "5150 RMSD is: 0.49140089750289917 || abs_error in 3 axis: tensor([0.1865, 0.1069, 0.2459])\n",
      "5200 RMSD is: 0.5088781714439392 || abs_error in 3 axis: tensor([0.1878, 0.1108, 0.2507])\n",
      "5250 RMSD is: 0.4757668673992157 || abs_error in 3 axis: tensor([0.1774, 0.1218, 0.2489])\n",
      "5300 RMSD is: 0.471231609582901 || abs_error in 3 axis: tensor([0.1882, 0.1043, 0.2505])\n",
      "5350 RMSD is: 0.4368663728237152 || abs_error in 3 axis: tensor([0.1764, 0.1245, 0.2407])\n",
      "5400 RMSD is: 0.441055566072464 || abs_error in 3 axis: tensor([0.1679, 0.1062, 0.2613])\n",
      "5450 RMSD is: 0.4781634211540222 || abs_error in 3 axis: tensor([0.1889, 0.1207, 0.2468])\n",
      "5500 RMSD is: 0.3680085241794586 || abs_error in 3 axis: tensor([0.1756, 0.1075, 0.2337])\n",
      "5550 RMSD is: 0.4893675148487091 || abs_error in 3 axis: tensor([0.1898, 0.1245, 0.2555])\n",
      "5600 RMSD is: 0.493265300989151 || abs_error in 3 axis: tensor([0.1942, 0.1077, 0.2645])\n",
      "5650 RMSD is: 0.516701877117157 || abs_error in 3 axis: tensor([0.2005, 0.1312, 0.2556])\n",
      "5700 RMSD is: 0.5054746866226196 || abs_error in 3 axis: tensor([0.1954, 0.1155, 0.2704])\n",
      "5750 RMSD is: 0.5431740880012512 || abs_error in 3 axis: tensor([0.2170, 0.1329, 0.2675])\n",
      "5800 RMSD is: 0.4835776686668396 || abs_error in 3 axis: tensor([0.1990, 0.1171, 0.2621])\n",
      "5850 RMSD is: 0.4978417754173279 || abs_error in 3 axis: tensor([0.2059, 0.1254, 0.2640])\n",
      "5900 RMSD is: 0.5041459798812866 || abs_error in 3 axis: tensor([0.2211, 0.1188, 0.2641])\n",
      "5950 RMSD is: 0.48152831196784973 || abs_error in 3 axis: tensor([0.2094, 0.1318, 0.2599])\n",
      "6000 RMSD is: 0.5286118984222412 || abs_error in 3 axis: tensor([0.2196, 0.1213, 0.2748])\n",
      "6050 RMSD is: 0.519402265548706 || abs_error in 3 axis: tensor([0.2208, 0.1338, 0.2667])\n",
      "6100 RMSD is: 0.4823834300041199 || abs_error in 3 axis: tensor([0.2103, 0.1189, 0.2694])\n",
      "6150 RMSD is: 0.5378722548484802 || abs_error in 3 axis: tensor([0.2169, 0.1260, 0.2883])\n",
      "6200 RMSD is: 0.5419823527336121 || abs_error in 3 axis: tensor([0.2161, 0.1394, 0.2886])\n",
      "6250 RMSD is: 0.49281057715415955 || abs_error in 3 axis: tensor([0.2137, 0.1374, 0.2730])\n",
      "6300 RMSD is: 0.5118507146835327 || abs_error in 3 axis: tensor([0.2076, 0.1333, 0.2840])\n",
      "6350 RMSD is: 0.5252266526222229 || abs_error in 3 axis: tensor([0.2199, 0.1367, 0.2876])\n",
      "6400 RMSD is: 0.493392676115036 || abs_error in 3 axis: tensor([0.2055, 0.1246, 0.2844])\n",
      "6450 RMSD is: 0.5463331937789917 || abs_error in 3 axis: tensor([0.2087, 0.1408, 0.3017])\n",
      "6500 RMSD is: 0.5239081382751465 || abs_error in 3 axis: tensor([0.2223, 0.1337, 0.2935])\n",
      "6550 RMSD is: 0.5080744028091431 || abs_error in 3 axis: tensor([0.2089, 0.1386, 0.2978])\n",
      "6600 RMSD is: 0.543670117855072 || abs_error in 3 axis: tensor([0.2042, 0.1355, 0.3175])\n",
      "6650 RMSD is: 0.48070797324180603 || abs_error in 3 axis: tensor([0.2235, 0.1336, 0.2856])\n",
      "6700 RMSD is: 0.44667667150497437 || abs_error in 3 axis: tensor([0.2056, 0.1299, 0.2832])\n",
      "6750 RMSD is: 0.4999152719974518 || abs_error in 3 axis: tensor([0.2198, 0.1294, 0.3034])\n",
      "6800 RMSD is: 0.4889793395996094 || abs_error in 3 axis: tensor([0.2203, 0.1290, 0.2978])\n",
      "6850 RMSD is: 0.4649927616119385 || abs_error in 3 axis: tensor([0.2063, 0.1460, 0.2820])\n",
      "6900 RMSD is: 0.49964219331741333 || abs_error in 3 axis: tensor([0.2204, 0.1277, 0.2976])\n",
      "6950 RMSD is: 0.49679234623908997 || abs_error in 3 axis: tensor([0.2263, 0.1256, 0.2998])\n",
      "7000 RMSD is: 0.5489382743835449 || abs_error in 3 axis: tensor([0.2228, 0.1387, 0.3221])\n",
      "7050 RMSD is: 0.523493230342865 || abs_error in 3 axis: tensor([0.2247, 0.1358, 0.3148])\n",
      "7100 RMSD is: 0.516823947429657 || abs_error in 3 axis: tensor([0.2298, 0.1478, 0.3053])\n",
      "7150 RMSD is: 0.5058384537696838 || abs_error in 3 axis: tensor([0.2381, 0.1435, 0.3022])\n",
      "7200 RMSD is: 0.5573182702064514 || abs_error in 3 axis: tensor([0.2369, 0.1482, 0.3288])\n",
      "7250 RMSD is: 0.5393223762512207 || abs_error in 3 axis: tensor([0.2407, 0.1371, 0.3243])\n",
      "7300 RMSD is: 0.504339337348938 || abs_error in 3 axis: tensor([0.2451, 0.1522, 0.3008])\n",
      "7350 RMSD is: 0.5430258512496948 || abs_error in 3 axis: tensor([0.2435, 0.1510, 0.3249])\n",
      "7400 RMSD is: 0.5360727906227112 || abs_error in 3 axis: tensor([0.2420, 0.1370, 0.3252])\n",
      "7450 RMSD is: 0.5303627848625183 || abs_error in 3 axis: tensor([0.2489, 0.1452, 0.3241])\n",
      "7500 RMSD is: 0.5088080763816833 || abs_error in 3 axis: tensor([0.2339, 0.1436, 0.3239])\n",
      "7550 RMSD is: 0.5392206907272339 || abs_error in 3 axis: tensor([0.2533, 0.1393, 0.3300])\n",
      "7600 RMSD is: 0.5475322008132935 || abs_error in 3 axis: tensor([0.2577, 0.1446, 0.3251])\n",
      "7650 RMSD is: 0.5343155860900879 || abs_error in 3 axis: tensor([0.2512, 0.1548, 0.3258])\n",
      "7700 RMSD is: 0.5765677690505981 || abs_error in 3 axis: tensor([0.2608, 0.1595, 0.3306])\n",
      "7750 RMSD is: 0.5907924175262451 || abs_error in 3 axis: tensor([0.2808, 0.1605, 0.3334])\n",
      "7800 RMSD is: 0.5497058033943176 || abs_error in 3 axis: tensor([0.2518, 0.1427, 0.3385])\n",
      "7850 RMSD is: 0.5868121385574341 || abs_error in 3 axis: tensor([0.2546, 0.1522, 0.3514])\n",
      "7900 RMSD is: 0.5816497206687927 || abs_error in 3 axis: tensor([0.2680, 0.1613, 0.3370])\n",
      "7950 RMSD is: 0.5553233623504639 || abs_error in 3 axis: tensor([0.2534, 0.1636, 0.3385])\n",
      "8000 RMSD is: 0.5945681929588318 || abs_error in 3 axis: tensor([0.2598, 0.1507, 0.3600])\n",
      "8050 RMSD is: 0.6150408983230591 || abs_error in 3 axis: tensor([0.2747, 0.1611, 0.3541])\n",
      "8100 RMSD is: 0.5672788023948669 || abs_error in 3 axis: tensor([0.2685, 0.1648, 0.3435])\n",
      "8150 RMSD is: 0.5784964561462402 || abs_error in 3 axis: tensor([0.2656, 0.1731, 0.3435])\n",
      "8200 RMSD is: 0.6370634436607361 || abs_error in 3 axis: tensor([0.2797, 0.1751, 0.3658])\n",
      "8250 RMSD is: 0.5830045938491821 || abs_error in 3 axis: tensor([0.2644, 0.1624, 0.3623])\n",
      "8300 RMSD is: 0.5795050859451294 || abs_error in 3 axis: tensor([0.2587, 0.1641, 0.3700])\n",
      "8350 RMSD is: 0.5898222923278809 || abs_error in 3 axis: tensor([0.2647, 0.1582, 0.3708])\n",
      "8400 RMSD is: 0.5789128541946411 || abs_error in 3 axis: tensor([0.2689, 0.1710, 0.3667])\n",
      "8450 RMSD is: 0.5589689612388611 || abs_error in 3 axis: tensor([0.2639, 0.1687, 0.3587])\n",
      "8500 RMSD is: 0.5954132080078125 || abs_error in 3 axis: tensor([0.2687, 0.1756, 0.3677])\n",
      "8550 RMSD is: 0.5930755734443665 || abs_error in 3 axis: tensor([0.2774, 0.1696, 0.3706])\n",
      "8600 RMSD is: 0.5804436206817627 || abs_error in 3 axis: tensor([0.2695, 0.1677, 0.3769])\n",
      "8650 RMSD is: 0.5950126051902771 || abs_error in 3 axis: tensor([0.2634, 0.1707, 0.3818])\n",
      "8700 RMSD is: 0.6011741757392883 || abs_error in 3 axis: tensor([0.2740, 0.1694, 0.3814])\n",
      "8750 RMSD is: 0.5491617918014526 || abs_error in 3 axis: tensor([0.2733, 0.1626, 0.3699])\n",
      "8800 RMSD is: 0.5646901726722717 || abs_error in 3 axis: tensor([0.2701, 0.1723, 0.3758])\n",
      "8850 RMSD is: 0.5977351069450378 || abs_error in 3 axis: tensor([0.2731, 0.1736, 0.3883])\n",
      "8900 RMSD is: 0.5650995373725891 || abs_error in 3 axis: tensor([0.2742, 0.1856, 0.3654])\n",
      "8950 RMSD is: 0.5779052972793579 || abs_error in 3 axis: tensor([0.2748, 0.1758, 0.3763])\n",
      "9000 RMSD is: 0.6142823696136475 || abs_error in 3 axis: tensor([0.2740, 0.1777, 0.3936])\n",
      "9050 RMSD is: 0.6532748937606812 || abs_error in 3 axis: tensor([0.2821, 0.1766, 0.4150])\n",
      "9100 RMSD is: 0.5807039141654968 || abs_error in 3 axis: tensor([0.2842, 0.1725, 0.3880])\n"
     ]
    },
    {
     "name": "stdout",
     "output_type": "stream",
     "text": [
      "9150 RMSD is: 0.5846536755561829 || abs_error in 3 axis: tensor([0.2747, 0.1885, 0.3870])\n",
      "9200 RMSD is: 0.5746551156044006 || abs_error in 3 axis: tensor([0.2763, 0.1611, 0.4001])\n",
      "9250 RMSD is: 0.5816131234169006 || abs_error in 3 axis: tensor([0.2744, 0.1679, 0.3940])\n",
      "9300 RMSD is: 0.5797552466392517 || abs_error in 3 axis: tensor([0.2783, 0.1751, 0.3906])\n",
      "9350 RMSD is: 0.6098363995552063 || abs_error in 3 axis: tensor([0.2838, 0.1818, 0.3996])\n",
      "9400 RMSD is: 0.6096433401107788 || abs_error in 3 axis: tensor([0.2969, 0.1831, 0.3963])\n",
      "9450 RMSD is: 0.6148340702056885 || abs_error in 3 axis: tensor([0.2827, 0.1790, 0.4117])\n",
      "9500 RMSD is: 0.6044936776161194 || abs_error in 3 axis: tensor([0.2854, 0.1783, 0.4025])\n",
      "9550 RMSD is: 0.6503690481185913 || abs_error in 3 axis: tensor([0.2920, 0.1945, 0.4191])\n",
      "9600 RMSD is: 0.6026778221130371 || abs_error in 3 axis: tensor([0.2942, 0.1867, 0.4048])\n",
      "9650 RMSD is: 0.6157572865486145 || abs_error in 3 axis: tensor([0.2931, 0.1922, 0.4089])\n",
      "9700 RMSD is: 0.6200745105743408 || abs_error in 3 axis: tensor([0.2907, 0.1844, 0.4148])\n",
      "9750 RMSD is: 0.6174865961074829 || abs_error in 3 axis: tensor([0.2973, 0.1878, 0.4079])\n",
      "9800 RMSD is: 0.6170421838760376 || abs_error in 3 axis: tensor([0.2934, 0.1980, 0.4071])\n",
      "9850 RMSD is: 0.6579372882843018 || abs_error in 3 axis: tensor([0.3035, 0.1925, 0.4269])\n",
      "9900 RMSD is: 0.682397723197937 || abs_error in 3 axis: tensor([0.3098, 0.1993, 0.4365])\n",
      "9950 RMSD is: 0.6337509751319885 || abs_error in 3 axis: tensor([0.3093, 0.1939, 0.4209])\n",
      "10000 RMSD is: 0.5839789509773254 || abs_error in 3 axis: tensor([0.2933, 0.1899, 0.4121])\n",
      "10050 RMSD is: 0.6440918445587158 || abs_error in 3 axis: tensor([0.3028, 0.2020, 0.4280])\n",
      "10100 RMSD is: 0.6715920567512512 || abs_error in 3 axis: tensor([0.3108, 0.1896, 0.4435])\n",
      "10150 RMSD is: 0.619030237197876 || abs_error in 3 axis: tensor([0.3146, 0.1942, 0.4165])\n",
      "10200 RMSD is: 0.6084922552108765 || abs_error in 3 axis: tensor([0.2990, 0.1875, 0.4211])\n",
      "10250 RMSD is: 0.6484953165054321 || abs_error in 3 axis: tensor([0.3080, 0.1883, 0.4354])\n",
      "10300 RMSD is: 0.6990758180618286 || abs_error in 3 axis: tensor([0.3196, 0.1980, 0.4535])\n",
      "10350 RMSD is: 0.6515059471130371 || abs_error in 3 axis: tensor([0.3165, 0.1970, 0.4417])\n",
      "10400 RMSD is: 0.6177676320075989 || abs_error in 3 axis: tensor([0.3108, 0.1895, 0.4367])\n",
      "10450 RMSD is: 0.6610438227653503 || abs_error in 3 axis: tensor([0.3244, 0.1982, 0.4433])\n",
      "10500 RMSD is: 0.6844279766082764 || abs_error in 3 axis: tensor([0.3303, 0.2026, 0.4525])\n",
      "10550 RMSD is: 0.6579989790916443 || abs_error in 3 axis: tensor([0.3194, 0.2056, 0.4425])\n",
      "10600 RMSD is: 0.655672550201416 || abs_error in 3 axis: tensor([0.3250, 0.2102, 0.4380])\n",
      "10650 RMSD is: 0.6826242208480835 || abs_error in 3 axis: tensor([0.3328, 0.1980, 0.4510])\n",
      "10700 RMSD is: 0.6915119290351868 || abs_error in 3 axis: tensor([0.3385, 0.2111, 0.4512])\n",
      "10750 RMSD is: 0.6868096590042114 || abs_error in 3 axis: tensor([0.3268, 0.2054, 0.4638])\n",
      "10800 RMSD is: 0.6361508965492249 || abs_error in 3 axis: tensor([0.3223, 0.2006, 0.4472])\n",
      "10850 RMSD is: 0.6454753279685974 || abs_error in 3 axis: tensor([0.3392, 0.1972, 0.4458])\n",
      "10900 RMSD is: 0.6606332063674927 || abs_error in 3 axis: tensor([0.3403, 0.2031, 0.4495])\n",
      "10950 RMSD is: 0.6774641871452332 || abs_error in 3 axis: tensor([0.3382, 0.2073, 0.4596])\n",
      "11000 RMSD is: 0.6907762289047241 || abs_error in 3 axis: tensor([0.3371, 0.2161, 0.4604])\n",
      "11050 RMSD is: 0.6634625792503357 || abs_error in 3 axis: tensor([0.3426, 0.2022, 0.4471])\n",
      "11100 RMSD is: 0.6732098460197449 || abs_error in 3 axis: tensor([0.3422, 0.2107, 0.4536])\n",
      "11150 RMSD is: 0.6797057390213013 || abs_error in 3 axis: tensor([0.3369, 0.2103, 0.4628])\n",
      "11200 RMSD is: 0.6910687685012817 || abs_error in 3 axis: tensor([0.3461, 0.2078, 0.4747])\n",
      "11250 RMSD is: 0.6381508708000183 || abs_error in 3 axis: tensor([0.3459, 0.1975, 0.4543])\n",
      "11300 RMSD is: 0.6390358209609985 || abs_error in 3 axis: tensor([0.3418, 0.2073, 0.4588])\n",
      "11350 RMSD is: 0.6955291628837585 || abs_error in 3 axis: tensor([0.3412, 0.2196, 0.4725])\n",
      "11400 RMSD is: 0.6936639547348022 || abs_error in 3 axis: tensor([0.3500, 0.2174, 0.4714])\n",
      "11450 RMSD is: 0.6737197637557983 || abs_error in 3 axis: tensor([0.3474, 0.2114, 0.4707])\n",
      "11500 RMSD is: 0.642682671546936 || abs_error in 3 axis: tensor([0.3416, 0.1983, 0.4717])\n",
      "11550 RMSD is: 0.6849766969680786 || abs_error in 3 axis: tensor([0.3392, 0.2151, 0.4887])\n",
      "11600 RMSD is: 0.7178471684455872 || abs_error in 3 axis: tensor([0.3519, 0.2252, 0.4921])\n",
      "11650 RMSD is: 0.6772907972335815 || abs_error in 3 axis: tensor([0.3503, 0.2219, 0.4756])\n",
      "11700 RMSD is: 0.6351374983787537 || abs_error in 3 axis: tensor([0.3358, 0.2142, 0.4749])\n",
      "11750 RMSD is: 0.6817041039466858 || abs_error in 3 axis: tensor([0.3396, 0.2212, 0.4871])\n",
      "11800 RMSD is: 0.7126222252845764 || abs_error in 3 axis: tensor([0.3528, 0.2225, 0.4967])\n",
      "11850 RMSD is: 0.7126656174659729 || abs_error in 3 axis: tensor([0.3555, 0.2284, 0.4849])\n",
      "11900 RMSD is: 0.6918008327484131 || abs_error in 3 axis: tensor([0.3421, 0.2295, 0.4824])\n",
      "11950 RMSD is: 0.6940041780471802 || abs_error in 3 axis: tensor([0.3414, 0.2136, 0.5027])\n",
      "12000 RMSD is: 0.7119110226631165 || abs_error in 3 axis: tensor([0.3433, 0.2273, 0.5069])\n",
      "12050 RMSD is: 0.7081388235092163 || abs_error in 3 axis: tensor([0.3569, 0.2345, 0.4966])\n",
      "12100 RMSD is: 0.7028311491012573 || abs_error in 3 axis: tensor([0.3540, 0.2282, 0.4939])\n",
      "12150 RMSD is: 0.6949170231819153 || abs_error in 3 axis: tensor([0.3596, 0.2268, 0.4897])\n",
      "12200 RMSD is: 0.7251080274581909 || abs_error in 3 axis: tensor([0.3515, 0.2281, 0.5159])\n",
      "12250 RMSD is: 0.7570397853851318 || abs_error in 3 axis: tensor([0.3676, 0.2366, 0.5209])\n",
      "12300 RMSD is: 0.7011892199516296 || abs_error in 3 axis: tensor([0.3506, 0.2230, 0.5065])\n",
      "12350 RMSD is: 0.7031652927398682 || abs_error in 3 axis: tensor([0.3610, 0.2291, 0.5119])\n",
      "12400 RMSD is: 0.7394134998321533 || abs_error in 3 axis: tensor([0.3581, 0.2356, 0.5297])\n",
      "12450 RMSD is: 0.743416428565979 || abs_error in 3 axis: tensor([0.3742, 0.2342, 0.5199])\n",
      "12500 RMSD is: 0.7151110768318176 || abs_error in 3 axis: tensor([0.3738, 0.2376, 0.5098])\n",
      "12550 RMSD is: 0.6976535320281982 || abs_error in 3 axis: tensor([0.3661, 0.2326, 0.5073])\n",
      "12600 RMSD is: 0.750606894493103 || abs_error in 3 axis: tensor([0.3750, 0.2411, 0.5260])\n",
      "12650 RMSD is: 0.7622175812721252 || abs_error in 3 axis: tensor([0.3891, 0.2331, 0.5283])\n",
      "12700 RMSD is: 0.7384559512138367 || abs_error in 3 axis: tensor([0.3851, 0.2342, 0.5191])\n",
      "12750 RMSD is: 0.7458364963531494 || abs_error in 3 axis: tensor([0.3808, 0.2441, 0.5298])\n",
      "12800 RMSD is: 0.7542884945869446 || abs_error in 3 axis: tensor([0.3803, 0.2467, 0.5368])\n",
      "12850 RMSD is: 0.7497586607933044 || abs_error in 3 axis: tensor([0.3838, 0.2381, 0.5358])\n",
      "12900 RMSD is: 0.7477984428405762 || abs_error in 3 axis: tensor([0.3962, 0.2424, 0.5266])\n",
      "12950 RMSD is: 0.743353545665741 || abs_error in 3 axis: tensor([0.3855, 0.2493, 0.5214])\n",
      "13000 RMSD is: 0.7411256432533264 || abs_error in 3 axis: tensor([0.3902, 0.2464, 0.5201])\n",
      "13050 RMSD is: 0.7915334105491638 || abs_error in 3 axis: tensor([0.3950, 0.2403, 0.5489])\n",
      "13100 RMSD is: 0.7870433330535889 || abs_error in 3 axis: tensor([0.3901, 0.2441, 0.5514])\n",
      "13150 RMSD is: 0.729648232460022 || abs_error in 3 axis: tensor([0.3842, 0.2405, 0.5337])\n",
      "13200 RMSD is: 0.7225072979927063 || abs_error in 3 axis: tensor([0.3750, 0.2529, 0.5349])\n",
      "13250 RMSD is: 0.7336035966873169 || abs_error in 3 axis: tensor([0.3688, 0.2329, 0.5468])\n",
      "13300 RMSD is: 0.7419452667236328 || abs_error in 3 axis: tensor([0.3862, 0.2379, 0.5428])\n",
      "13350 RMSD is: 0.7479069232940674 || abs_error in 3 axis: tensor([0.3895, 0.2645, 0.5296])\n",
      "13400 RMSD is: 0.7500969767570496 || abs_error in 3 axis: tensor([0.3847, 0.2496, 0.5467])\n",
      "13450 RMSD is: 0.7564570903778076 || abs_error in 3 axis: tensor([0.3844, 0.2418, 0.5575])\n",
      "13500 RMSD is: 0.7657832503318787 || abs_error in 3 axis: tensor([0.3801, 0.2514, 0.5667])\n",
      "13550 RMSD is: 0.7747515439987183 || abs_error in 3 axis: tensor([0.3898, 0.2543, 0.5664])\n",
      "13600 RMSD is: 0.7538940906524658 || abs_error in 3 axis: tensor([0.3948, 0.2585, 0.5566])\n",
      "13650 RMSD is: 0.7374264597892761 || abs_error in 3 axis: tensor([0.3866, 0.2416, 0.5574])\n"
     ]
    },
    {
     "name": "stdout",
     "output_type": "stream",
     "text": [
      "13700 RMSD is: 0.8255413174629211 || abs_error in 3 axis: tensor([0.4018, 0.2663, 0.5807])\n",
      "13750 RMSD is: 0.8149794340133667 || abs_error in 3 axis: tensor([0.4196, 0.2641, 0.5632])\n",
      "13800 RMSD is: 0.800688624382019 || abs_error in 3 axis: tensor([0.4178, 0.2588, 0.5618])\n",
      "13850 RMSD is: 0.8030731678009033 || abs_error in 3 axis: tensor([0.4070, 0.2555, 0.5719])\n",
      "13900 RMSD is: 0.8072218894958496 || abs_error in 3 axis: tensor([0.4073, 0.2583, 0.5820])\n",
      "13950 RMSD is: 0.8013431429862976 || abs_error in 3 axis: tensor([0.4108, 0.2614, 0.5785])\n",
      "14000 RMSD is: 0.7763640880584717 || abs_error in 3 axis: tensor([0.4166, 0.2446, 0.5701])\n",
      "14050 RMSD is: 0.7610790729522705 || abs_error in 3 axis: tensor([0.4151, 0.2640, 0.5569])\n",
      "14100 RMSD is: 0.755922794342041 || abs_error in 3 axis: tensor([0.4055, 0.2554, 0.5582])\n",
      "14150 RMSD is: 0.8178287744522095 || abs_error in 3 axis: tensor([0.4203, 0.2655, 0.5879])\n",
      "14200 RMSD is: 0.8031629323959351 || abs_error in 3 axis: tensor([0.4164, 0.2563, 0.5825])\n",
      "14250 RMSD is: 0.8035314083099365 || abs_error in 3 axis: tensor([0.4135, 0.2688, 0.5841])\n",
      "14300 RMSD is: 0.7954952120780945 || abs_error in 3 axis: tensor([0.4166, 0.2711, 0.5810])\n",
      "14350 RMSD is: 0.7838307023048401 || abs_error in 3 axis: tensor([0.3986, 0.2600, 0.5903])\n",
      "14400 RMSD is: 0.7930930852890015 || abs_error in 3 axis: tensor([0.4008, 0.2623, 0.5916])\n",
      "14450 RMSD is: 0.8016616702079773 || abs_error in 3 axis: tensor([0.4155, 0.2680, 0.5876])\n",
      "14500 RMSD is: 0.7976743578910828 || abs_error in 3 axis: tensor([0.4256, 0.2747, 0.5843])\n",
      "14550 RMSD is: 0.8177973628044128 || abs_error in 3 axis: tensor([0.4154, 0.2633, 0.6041])\n",
      "14600 RMSD is: 0.8162202835083008 || abs_error in 3 axis: tensor([0.4196, 0.2776, 0.5927])\n",
      "14650 RMSD is: 0.8350646495819092 || abs_error in 3 axis: tensor([0.4186, 0.2776, 0.6079])\n",
      "14700 RMSD is: 0.8476941585540771 || abs_error in 3 axis: tensor([0.4435, 0.2751, 0.6106])\n",
      "14750 RMSD is: 0.8265471458435059 || abs_error in 3 axis: tensor([0.4268, 0.2698, 0.6157])\n",
      "14800 RMSD is: 0.8205944299697876 || abs_error in 3 axis: tensor([0.4281, 0.2750, 0.6072])\n",
      "14850 RMSD is: 0.8307281732559204 || abs_error in 3 axis: tensor([0.4388, 0.2826, 0.6035])\n",
      "14900 RMSD is: 0.8308568000793457 || abs_error in 3 axis: tensor([0.4311, 0.2731, 0.6038])\n",
      "14950 RMSD is: 0.8581850528717041 || abs_error in 3 axis: tensor([0.4522, 0.2784, 0.6102])\n"
     ]
    }
   ],
   "source": [
    "# %%timeit\n",
    "n_iters = 15000\n",
    "errors, errors_3d  = [], []\n",
    "coords_wrapper = true_coords[:]\n",
    "# do n times and check error\n",
    "for i in range(n_iters):\n",
    "    # modify scaffolds with true data\n",
    "    scaffolds_ = modify_scaffolds_with_coords(scaffolds, \n",
    "                                              rearrange(coords_wrapper, '(l c) d -> l c d', c=14)[:-padding_seq])\n",
    "    # scaffolds_ = scaffolds\n",
    "    # convert coords - fold\n",
    "    coords, mask = proto_fold(seq[:-padding_seq], **scaffolds_)\n",
    "    coords_flat  = rearrange(coords, 'l c d -> (l c) d') \n",
    "    \n",
    "    # align\n",
    "    flat_mask = rearrange(scaffolds_[\"cloud_mask\"], 'l d -> (l d)')\n",
    "    coords_aligned, labels_aligned = kabsch_torch(coords_flat[flat_mask].t(),\n",
    "                                                  true_coords[:-14*padding_angles][flat_mask].t())\n",
    "    # create coord scaffolds\n",
    "    scaff_coords_aligned = torch.zeros(coords_flat.shape).float()\n",
    "    scaff_labels_aligned = torch.zeros(coords_flat.shape).float()\n",
    "    # fill\n",
    "    scaff_coords_aligned[flat_mask] = coords_aligned.t()\n",
    "    scaff_labels_aligned[flat_mask] = labels_aligned.t()\n",
    "    # replace vars\n",
    "    coords_aligned, labels_aligned = scaff_coords_aligned, scaff_labels_aligned\n",
    "        \n",
    "    # record evolution\n",
    "    errors.append(rmsd_torch(coords_aligned, labels_aligned).item())\n",
    "    errors_3d.append( (coords_aligned - labels_aligned).abs().mean(dim=-2) )\n",
    "    if i % 50 == 0:\n",
    "        print(i, \"RMSD is:\", errors[-1], \"|| abs_error in 3 axis:\", errors_3d[-1])\n",
    "    \n",
    "    # update coords\n",
    "    coords_wrapper = torch.zeros_like( rearrange(true_coords, '(l c) d -> l c d', c=14) )\n",
    "    coords_wrapper[:-padding_angles][scaffolds_[\"cloud_mask\"]] = rearrange(coords_aligned, '(l c) d -> l c d', c=14)[scaffolds_[\"cloud_mask\"]]\n",
    "    coords_wrapper = rearrange(coords_wrapper, 'l c d -> (l c) d')\n",
    "    "
   ]
  },
  {
   "cell_type": "markdown",
   "metadata": {},
   "source": [
    "### Make cool plot"
   ]
  },
  {
   "cell_type": "code",
   "execution_count": 21,
   "metadata": {},
   "outputs": [],
   "source": [
    "import matplotlib.pyplot as plt"
   ]
  },
  {
   "cell_type": "code",
   "execution_count": 22,
   "metadata": {},
   "outputs": [],
   "source": [
    "joblib.dump({\"rmsd\": errors, \"axis_abs\": torch.stack(errors_3d, dim=0)}, \"experiments/looping_error.joblib\")\n",
    "data = joblib.load(\"experiments/looping_error.joblib\")"
   ]
  },
  {
   "cell_type": "code",
   "execution_count": 23,
   "metadata": {},
   "outputs": [
    {
     "data": {
      "image/png": "[encoded data removed]",
      "text/plain": [
       "<Figure size 432x288 with 1 Axes>"
      ]
     },
     "metadata": {
      "needs_background": "light"
     },
     "output_type": "display_data"
    },
    {
     "data": {
      "image/png": "[encoded data removed]",
      "text/plain": [
       "<Figure size 432x288 with 1 Axes>"
      ]
     },
     "metadata": {
      "needs_background": "light"
     },
     "output_type": "display_data"
    }
   ],
   "source": [
    "# RMSD\n",
    "plt.title(\"Cumulative Error Evolution\")\n",
    "plt.plot(errors, 'r--', label=\"Cumulative RMSD\")\n",
    "plt.ylabel(\"RMSD (Angstroms)\")\n",
    "plt.xlabel(\"Iterations\")\n",
    "plt.legend()\n",
    "plt.show()\n",
    "\n",
    "# 3d axis ABS ERROR\n",
    "plt.title(\"Cumulative Absolute Error Evolution\")\n",
    "plt.plot(data[\"axis_abs\"][:, 0].numpy(), 'c--', label=\"x axis\")\n",
    "plt.plot(data[\"axis_abs\"][:, 1].numpy(), 'm--', label=\"y axis\")\n",
    "plt.plot(data[\"axis_abs\"][:, 2].numpy(), 'k--', label=\"z axis\")\n",
    "plt.ylabel(\"Absolute Error (Angstroms)\")\n",
    "plt.xlabel(\"Iterations\")\n",
    "plt.legend()\n",
    "plt.show()"
   ]
  },
  {
   "cell_type": "code",
   "execution_count": null,
   "metadata": {},
   "outputs": [],
   "source": []
  }
 ],
 "metadata": {
  "kernelspec": {
   "display_name": "assistant",
   "language": "python",
   "name": "assistant"
  },
  "language_info": {
   "codemirror_mode": {
    "name": "ipython",
    "version": 3
   },
   "file_extension": ".py",
   "mimetype": "text/x-python",
   "name": "python",
   "nbconvert_exporter": "python",
   "pygments_lexer": "ipython3",
   "version": "3.7.9"
  }
 },
 "nbformat": 4,
 "nbformat_minor": 4
}
