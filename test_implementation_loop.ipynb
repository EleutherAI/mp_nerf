{
 "cells": [
  {
   "cell_type": "code",
   "execution_count": 1,
   "metadata": {},
   "outputs": [],
   "source": [
    "import time\n",
    "# science\n",
    "import numpy as np\n",
    "import torch\n",
    "from einops import repeat, rearrange"
   ]
  },
  {
   "cell_type": "code",
   "execution_count": 2,
   "metadata": {},
   "outputs": [],
   "source": [
    "import joblib\n",
    "import sidechainnet"
   ]
  },
  {
   "cell_type": "code",
   "execution_count": 3,
   "metadata": {},
   "outputs": [],
   "source": [
    "from sidechainnet.utils.sequence import ProteinVocabulary as VOCAB\n",
    "VOCAB = VOCAB()"
   ]
  },
  {
   "cell_type": "markdown",
   "metadata": {},
   "source": [
    "### Load a protein in SCN format - you can skip this since a joblib file is provided"
   ]
  },
  {
   "cell_type": "code",
   "execution_count": 4,
   "metadata": {
    "scrolled": true
   },
   "outputs": [
    {
     "name": "stdout",
     "output_type": "stream",
     "text": [
      "SidechainNet was loaded from ./sidechainnet_data/sidechainnet_casp7_30.pkl.\n"
     ]
    },
    {
     "data": {
      "text/plain": [
       "dict_keys(['train', 'train-eval', 'test', 'valid-10', 'valid-20', 'valid-30', 'valid-40', 'valid-50', 'valid-70', 'valid-90'])"
      ]
     },
     "execution_count": 4,
     "metadata": {},
     "output_type": "execute_result"
    }
   ],
   "source": [
    "dataloaders = sidechainnet.load(casp_version=7, with_pytorch=\"dataloaders\")\n",
    "dataloaders.keys() # ['train', 'train_eval', 'valid-10', ..., 'valid-90', 'test']\n",
    "# ProteinDataset(casp_version=12, split='train', n_proteins=81454,\n",
    "#               created='Sep 20, 2020')"
   ]
  },
  {
   "cell_type": "code",
   "execution_count": 5,
   "metadata": {
    "scrolled": true
   },
   "outputs": [
    {
     "name": "stdout",
     "output_type": "stream",
     "text": [
      "seq len 158\n",
      "stopping at sequence of length 158\n",
      "158 torch.Size([158, 12]) tensor(False)\n",
      "paddings:  0 tensor(0)\n"
     ]
    }
   ],
   "source": [
    "min_len = 100\n",
    "for batch in dataloaders['train']:\n",
    "    real_seqs = [''.join([VOCAB.int2char(aa) for aa in seq]) for seq in batch.int_seqs.numpy()]\n",
    "    print(\"seq len\", len(real_seqs[0]))\n",
    "    try:\n",
    "        for i in range(len(batch.int_seqs.numpy())):\n",
    "            # get variables\n",
    "            seq     = real_seqs[i]\n",
    "            int_seq = batch.int_seqs[i]\n",
    "            angles  = batch.angs[i]\n",
    "            # get padding\n",
    "            padding_angles = (torch.abs(angles).sum(dim=-1) == 0).long().sum()\n",
    "            padding_seq    = (np.array([x for x in seq]) == \"_\").sum()\n",
    "            # only accept sequences with right dimensions and no missing coords\n",
    "            # if padding_seq == padding_angles:\n",
    "            # print(\"paddings_match\")\n",
    "            # print(\"len coords\", list(batch.crds[i].shape)[0]//3, \"vs int_seq\", len(int_seq))\n",
    "            \n",
    "            # to retrieve the 112: and batch.pids[i] == \"2F2H_d2f2hf1\":\n",
    "            if list(batch.crds[i].shape)[0]//14 == len(int_seq): #  \n",
    "                if len(seq) > min_len and padding_seq == padding_angles:\n",
    "                    print(\"stopping at sequence of length\", len(seq))\n",
    "                    print(len(seq), angles.shape, padding_seq == padding_angles == list(batch.crds[i].shape)[0]//3)\n",
    "                    print(\"paddings: \", padding_seq, padding_angles)\n",
    "                    raise StopIteration\n",
    "                else:\n",
    "                    print(\"found a seq of length:\", len(seq), \"but below the threshold:\", min_len)\n",
    "    except StopIteration:\n",
    "        break"
   ]
  },
  {
   "cell_type": "markdown",
   "metadata": {},
   "source": [
    "### Load joblib file"
   ]
  },
  {
   "cell_type": "code",
   "execution_count": 24,
   "metadata": {},
   "outputs": [],
   "source": [
    "# joblib.dump({\"seq\": seq, \"int_seq\": int_seq, \"angles\": angles,\n",
    "#              \"id\": batch.pids[i], \"true_coords\": batch.crds[i]}, \"experiments/112_aas_seq_and_angles.joblib\")\n",
    "info = joblib.load(\"experiments/112_aas_seq_and_angles.joblib\")\n",
    "seq, int_seq, angles, id_, true_coords = info[\"seq\"], info[\"int_seq\"], info[\"angles\"], info[\"id\"], info[\"true_coords\"]\n",
    "\n",
    "padding_angles = (torch.abs(angles).sum(dim=-1) == 0).long().sum()\n",
    "padding_seq    = (np.array([x for x in seq]) == \"_\").sum()"
   ]
  },
  {
   "cell_type": "markdown",
   "metadata": {},
   "source": [
    "### Load algo"
   ]
  },
  {
   "cell_type": "code",
   "execution_count": 25,
   "metadata": {},
   "outputs": [],
   "source": [
    "from massive_pnerf import *"
   ]
  },
  {
   "cell_type": "code",
   "execution_count": 26,
   "metadata": {},
   "outputs": [],
   "source": [
    "# measure time to featurize\n",
    "# %timeit build_scaffolds(seq[:-padding_seq], angles[:-padding_seq])"
   ]
  },
  {
   "cell_type": "code",
   "execution_count": 27,
   "metadata": {},
   "outputs": [],
   "source": [
    "# featurize\n",
    "scaffolds  = build_scaffolds_from_scn_angles(seq[:-padding_seq], angles[:-padding_seq])\n",
    "# convert to double\n",
    "scaffolds_ = scaffolds\n",
    "scaffolds_[\"angles_mask\"] = scaffolds_[\"angles_mask\"].double() \n",
    "scaffolds_[\"bond_mask\"]   = scaffolds_[\"bond_mask\"].double() "
   ]
  },
  {
   "cell_type": "code",
   "execution_count": 28,
   "metadata": {
    "scrolled": false
   },
   "outputs": [
    {
     "name": "stdout",
     "output_type": "stream",
     "text": [
      "0 RMSD is: 0.013866866292405692 || abs_error in 3 axis: tensor([0.0548, 0.0486, 0.0452], dtype=torch.float64)\n",
      "1 RMSD is: 0.011569275196231115 || abs_error in 3 axis: tensor([0.0374, 0.0595, 0.0217], dtype=torch.float64)\n",
      "2 RMSD is: 0.01792590173473718 || abs_error in 3 axis: tensor([0.0712, 0.0512, 0.0444], dtype=torch.float64)\n",
      "3 RMSD is: 0.01628935734757147 || abs_error in 3 axis: tensor([0.0405, 0.0609, 0.0422], dtype=torch.float64)\n",
      "4 RMSD is: 0.012402961800515212 || abs_error in 3 axis: tensor([0.0354, 0.0393, 0.0398], dtype=torch.float64)\n",
      "5 RMSD is: 0.015751961284348463 || abs_error in 3 axis: tensor([0.0476, 0.0667, 0.0360], dtype=torch.float64)\n",
      "100 RMSD is: 0.008023563539656184 || abs_error in 3 axis: tensor([0.0297, 0.0274, 0.0243], dtype=torch.float64)\n",
      "200 RMSD is: 0.008151234024021797 || abs_error in 3 axis: tensor([0.0298, 0.0278, 0.0240], dtype=torch.float64)\n",
      "300 RMSD is: 0.008151870606000335 || abs_error in 3 axis: tensor([0.0298, 0.0278, 0.0240], dtype=torch.float64)\n",
      "400 RMSD is: 0.008148756093527536 || abs_error in 3 axis: tensor([0.0298, 0.0278, 0.0240], dtype=torch.float64)\n",
      "500 RMSD is: 0.0081489718936082 || abs_error in 3 axis: tensor([0.0298, 0.0278, 0.0240], dtype=torch.float64)\n",
      "600 RMSD is: 0.00815192680941171 || abs_error in 3 axis: tensor([0.0299, 0.0278, 0.0240], dtype=torch.float64)\n",
      "700 RMSD is: 0.008151614132962406 || abs_error in 3 axis: tensor([0.0299, 0.0278, 0.0240], dtype=torch.float64)\n",
      "800 RMSD is: 0.008151393342298672 || abs_error in 3 axis: tensor([0.0299, 0.0278, 0.0240], dtype=torch.float64)\n",
      "900 RMSD is: 0.008152429847045211 || abs_error in 3 axis: tensor([0.0299, 0.0278, 0.0240], dtype=torch.float64)\n",
      "1000 RMSD is: 0.008152875087222016 || abs_error in 3 axis: tensor([0.0299, 0.0278, 0.0240], dtype=torch.float64)\n",
      "1100 RMSD is: 0.008152176667289035 || abs_error in 3 axis: tensor([0.0299, 0.0279, 0.0240], dtype=torch.float64)\n",
      "1200 RMSD is: 0.00815222286975985 || abs_error in 3 axis: tensor([0.0300, 0.0279, 0.0240], dtype=torch.float64)\n",
      "1300 RMSD is: 0.008154728486826295 || abs_error in 3 axis: tensor([0.0300, 0.0279, 0.0240], dtype=torch.float64)\n",
      "1400 RMSD is: 0.00815908110961843 || abs_error in 3 axis: tensor([0.0300, 0.0279, 0.0240], dtype=torch.float64)\n",
      "1500 RMSD is: 0.008157406717502761 || abs_error in 3 axis: tensor([0.0300, 0.0279, 0.0239], dtype=torch.float64)\n",
      "1600 RMSD is: 0.008157564658080863 || abs_error in 3 axis: tensor([0.0301, 0.0279, 0.0239], dtype=torch.float64)\n",
      "1700 RMSD is: 0.008158759390437361 || abs_error in 3 axis: tensor([0.0301, 0.0279, 0.0239], dtype=torch.float64)\n",
      "1800 RMSD is: 0.008160990746795101 || abs_error in 3 axis: tensor([0.0301, 0.0279, 0.0239], dtype=torch.float64)\n",
      "1900 RMSD is: 0.008162094504125224 || abs_error in 3 axis: tensor([0.0301, 0.0280, 0.0239], dtype=torch.float64)\n",
      "2000 RMSD is: 0.00816642220139677 || abs_error in 3 axis: tensor([0.0302, 0.0280, 0.0239], dtype=torch.float64)\n",
      "2100 RMSD is: 0.008165542878143086 || abs_error in 3 axis: tensor([0.0302, 0.0280, 0.0239], dtype=torch.float64)\n",
      "2200 RMSD is: 0.00816930132781501 || abs_error in 3 axis: tensor([0.0302, 0.0280, 0.0239], dtype=torch.float64)\n",
      "2300 RMSD is: 0.008172487452777514 || abs_error in 3 axis: tensor([0.0302, 0.0280, 0.0239], dtype=torch.float64)\n",
      "2400 RMSD is: 0.008173545933215032 || abs_error in 3 axis: tensor([0.0303, 0.0280, 0.0239], dtype=torch.float64)\n",
      "2500 RMSD is: 0.008173588073292005 || abs_error in 3 axis: tensor([0.0303, 0.0280, 0.0239], dtype=torch.float64)\n",
      "2600 RMSD is: 0.008174086940195517 || abs_error in 3 axis: tensor([0.0303, 0.0280, 0.0239], dtype=torch.float64)\n",
      "2700 RMSD is: 0.00817331384899534 || abs_error in 3 axis: tensor([0.0303, 0.0280, 0.0239], dtype=torch.float64)\n",
      "2800 RMSD is: 0.008169297704425278 || abs_error in 3 axis: tensor([0.0303, 0.0280, 0.0240], dtype=torch.float64)\n",
      "2900 RMSD is: 0.00816825494038609 || abs_error in 3 axis: tensor([0.0303, 0.0280, 0.0240], dtype=torch.float64)\n",
      "3000 RMSD is: 0.008169136160765181 || abs_error in 3 axis: tensor([0.0303, 0.0280, 0.0240], dtype=torch.float64)\n",
      "3100 RMSD is: 0.008169358961400244 || abs_error in 3 axis: tensor([0.0303, 0.0280, 0.0240], dtype=torch.float64)\n",
      "3200 RMSD is: 0.0081711492543882 || abs_error in 3 axis: tensor([0.0304, 0.0280, 0.0240], dtype=torch.float64)\n",
      "3300 RMSD is: 0.008170218928421725 || abs_error in 3 axis: tensor([0.0304, 0.0280, 0.0239], dtype=torch.float64)\n",
      "3400 RMSD is: 0.00816756903647595 || abs_error in 3 axis: tensor([0.0304, 0.0280, 0.0239], dtype=torch.float64)\n",
      "3500 RMSD is: 0.008166698614140521 || abs_error in 3 axis: tensor([0.0304, 0.0281, 0.0239], dtype=torch.float64)\n",
      "3600 RMSD is: 0.008170630771406959 || abs_error in 3 axis: tensor([0.0304, 0.0281, 0.0239], dtype=torch.float64)\n",
      "3700 RMSD is: 0.008171282177409188 || abs_error in 3 axis: tensor([0.0304, 0.0281, 0.0239], dtype=torch.float64)\n",
      "3800 RMSD is: 0.008173633267267654 || abs_error in 3 axis: tensor([0.0305, 0.0281, 0.0240], dtype=torch.float64)\n",
      "3900 RMSD is: 0.008176149486697117 || abs_error in 3 axis: tensor([0.0305, 0.0281, 0.0240], dtype=torch.float64)\n",
      "4000 RMSD is: 0.00817670432730944 || abs_error in 3 axis: tensor([0.0305, 0.0281, 0.0239], dtype=torch.float64)\n",
      "4100 RMSD is: 0.008177973698084843 || abs_error in 3 axis: tensor([0.0305, 0.0281, 0.0239], dtype=torch.float64)\n",
      "4200 RMSD is: 0.008174178986202438 || abs_error in 3 axis: tensor([0.0305, 0.0281, 0.0239], dtype=torch.float64)\n",
      "4300 RMSD is: 0.008174575224589488 || abs_error in 3 axis: tensor([0.0306, 0.0281, 0.0239], dtype=torch.float64)\n",
      "4400 RMSD is: 0.008174549174727225 || abs_error in 3 axis: tensor([0.0306, 0.0281, 0.0239], dtype=torch.float64)\n",
      "4500 RMSD is: 0.008174971488609073 || abs_error in 3 axis: tensor([0.0306, 0.0281, 0.0239], dtype=torch.float64)\n",
      "4600 RMSD is: 0.008178381065710602 || abs_error in 3 axis: tensor([0.0306, 0.0281, 0.0239], dtype=torch.float64)\n",
      "4700 RMSD is: 0.008179498054230174 || abs_error in 3 axis: tensor([0.0306, 0.0281, 0.0239], dtype=torch.float64)\n",
      "4800 RMSD is: 0.00818028249112712 || abs_error in 3 axis: tensor([0.0307, 0.0281, 0.0239], dtype=torch.float64)\n",
      "4900 RMSD is: 0.008178935151142494 || abs_error in 3 axis: tensor([0.0307, 0.0281, 0.0239], dtype=torch.float64)\n"
     ]
    }
   ],
   "source": [
    "# %%timeit\n",
    "n_iters = 5000\n",
    "errors, errors_3d  = [], []\n",
    "coords_wrapper = true_coords[:]# .double()\n",
    "# do n times and check error\n",
    "for i in range(n_iters):\n",
    "    # modify scaffolds with true data\n",
    "    scaffolds_ = modify_scaffolds_with_coords(scaffolds_.copy(), \n",
    "                                              rearrange(coords_wrapper.double(), '(l c) d -> l c d', c=14)[:-padding_seq])\n",
    "    # scaffolds_ = scaffolds.copy()\n",
    "    \n",
    "    ## convert scaffolds to double\n",
    "\n",
    "    # convert coords - fold\n",
    "    coords, mask = proto_fold(seq[:-padding_seq], **scaffolds_)\n",
    "    coords_flat  = rearrange(coords, 'l c d -> (l c) d')\n",
    "    \n",
    "    \n",
    "    # align\n",
    "    flat_mask = rearrange(scaffolds_[\"cloud_mask\"], 'l c -> (l c)')\n",
    "    coords_aligned, labels_aligned = kabsch_torch(coords_flat[flat_mask].t(),\n",
    "                                                  true_coords[:-14*padding_angles][flat_mask].t().double())\n",
    "    # create coord scaffolds\n",
    "    scaff_coords_aligned = torch.zeros_like(coords_flat)\n",
    "    scaff_labels_aligned = torch.zeros_like(coords_flat)\n",
    "    # fill\n",
    "    scaff_coords_aligned[flat_mask] = coords_aligned.t()\n",
    "    scaff_labels_aligned[flat_mask] = labels_aligned.t()\n",
    "    # replace vars\n",
    "    coords_aligned, labels_aligned = scaff_coords_aligned, scaff_labels_aligned\n",
    "        \n",
    "    # record evolution\n",
    "    errors.append(rmsd_torch(coords_aligned, labels_aligned).item())\n",
    "    errors_3d.append( (coords_aligned - labels_aligned).abs().max(dim=-2)[0] )\n",
    "    if i % 100 == 0 or i in [1,2,3,4,5]:\n",
    "        print(i, \"RMSD is:\", errors[-1], \"|| abs_error in 3 axis:\", errors_3d[-1])\n",
    "    \n",
    "    # update coords\n",
    "    coords_wrapper = torch.zeros_like( rearrange(true_coords, '(l c) d -> l c d', c=14) )\n",
    "    coords_wrapper[:-padding_angles] = rearrange(coords_flat, '(l c) d -> l c d', c=14)\n",
    "    coords_wrapper = rearrange(coords_wrapper, 'l c d -> (l c) d')\n",
    "    "
   ]
  },
  {
   "cell_type": "markdown",
   "metadata": {},
   "source": [
    "### Debug"
   ]
  },
  {
   "cell_type": "code",
   "execution_count": 29,
   "metadata": {},
   "outputs": [],
   "source": [
    "import matplotlib.pyplot as plt"
   ]
  },
  {
   "cell_type": "code",
   "execution_count": 30,
   "metadata": {},
   "outputs": [
    {
     "data": {
      "image/png": "[encoded data removed]",
      "text/plain": [
       "<Figure size 432x288 with 1 Axes>"
      ]
     },
     "metadata": {
      "needs_background": "light"
     },
     "output_type": "display_data"
    }
   ],
   "source": [
    "plt.title(\"Histogram of absolute error distrobution\")\n",
    "plt.hist( (coords_aligned - labels_aligned).abs().numpy()[:, 0], alpha=0.3, density=True, label=\"x_axis_distro\")\n",
    "plt.hist( (coords_aligned - labels_aligned).abs().numpy()[:, 1], alpha=0.3, density=True, label=\"y_axis_distro\")\n",
    "plt.hist( (coords_aligned - labels_aligned).abs().numpy()[:, 2], alpha=0.3, density=True, label=\"z_axis_distro\")\n",
    "plt.legend()\n",
    "plt.ylabel(\"density\")\n",
    "plt.xlabel(\"Abs Error (Angstroms)\")\n",
    "plt.show()"
   ]
  },
  {
   "cell_type": "code",
   "execution_count": 31,
   "metadata": {},
   "outputs": [],
   "source": [
    "sb = sidechainnet.StructureBuilder(int_seq, crd=coords_aligned) \n",
    "sb.to_pdb(\"preds/predicted_112.pdb\")\n",
    "sb = sidechainnet.StructureBuilder(int_seq, crd=labels_aligned) \n",
    "sb.to_pdb(\"preds/labels_112.pdb\")"
   ]
  },
  {
   "cell_type": "markdown",
   "metadata": {},
   "source": [
    "### Make cool plot"
   ]
  },
  {
   "cell_type": "code",
   "execution_count": 32,
   "metadata": {},
   "outputs": [],
   "source": [
    "joblib.dump({\"rmsd\": errors, \"axis_abs\": torch.stack(errors_3d, dim=0)}, \"experiments/looping_error.joblib\")\n",
    "data = joblib.load(\"experiments/looping_error.joblib\")"
   ]
  },
  {
   "cell_type": "code",
   "execution_count": 33,
   "metadata": {},
   "outputs": [
    {
     "data": {
      "image/png": "[encoded data removed]",
      "text/plain": [
       "<Figure size 432x288 with 1 Axes>"
      ]
     },
     "metadata": {
      "needs_background": "light"
     },
     "output_type": "display_data"
    },
    {
     "data": {
      "image/png": "[encoded data removed]",
      "text/plain": [
       "<Figure size 432x288 with 1 Axes>"
      ]
     },
     "metadata": {
      "needs_background": "light"
     },
     "output_type": "display_data"
    }
   ],
   "source": [
    "# RMSD\n",
    "plt.title(\"Cumulative Error Evolution\")\n",
    "plt.plot(errors, 'r--', label=\"Cumulative RMSD\")\n",
    "plt.ylabel(\"RMSD (Angstroms)\")\n",
    "plt.xlabel(\"Iterations\")\n",
    "plt.legend()\n",
    "plt.show()\n",
    "\n",
    "# 3d axis ABS ERROR\n",
    "plt.title(\"Cumulative Absolute Error Evolution\")\n",
    "plt.plot(data[\"axis_abs\"][:, 0].numpy(), 'c--', label=\"x axis\")\n",
    "plt.plot(data[\"axis_abs\"][:, 1].numpy(), 'm--', label=\"y axis\")\n",
    "plt.plot(data[\"axis_abs\"][:, 2].numpy(), 'k--', label=\"z axis\")\n",
    "plt.ylabel(\"Absolute Error (Angstroms)\")\n",
    "plt.xlabel(\"Iterations\")\n",
    "plt.legend()\n",
    "plt.show()"
   ]
  },
  {
   "cell_type": "code",
   "execution_count": null,
   "metadata": {},
   "outputs": [],
   "source": []
  }
 ],
 "metadata": {
  "kernelspec": {
   "display_name": "assistant",
   "language": "python",
   "name": "assistant"
  },
  "language_info": {
   "codemirror_mode": {
    "name": "ipython",
    "version": 3
   },
   "file_extension": ".py",
   "mimetype": "text/x-python",
   "name": "python",
   "nbconvert_exporter": "python",
   "pygments_lexer": "ipython3",
   "version": "3.7.9"
  }
 },
 "nbformat": 4,
 "nbformat_minor": 4
}
