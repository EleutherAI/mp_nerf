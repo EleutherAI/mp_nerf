{
 "cells": [
  {
   "cell_type": "code",
   "execution_count": 1,
   "metadata": {},
   "outputs": [],
   "source": [
    "import time\n",
    "# science\n",
    "import numpy as np\n",
    "import torch\n",
    "from einops import repeat, rearrange"
   ]
  },
  {
   "cell_type": "code",
   "execution_count": 2,
   "metadata": {},
   "outputs": [],
   "source": [
    "import joblib\n",
    "import sidechainnet"
   ]
  },
  {
   "cell_type": "code",
   "execution_count": 3,
   "metadata": {},
   "outputs": [],
   "source": [
    "from sidechainnet.utils.sequence import ProteinVocabulary as VOCAB\n",
    "VOCAB = VOCAB()"
   ]
  },
  {
   "cell_type": "markdown",
   "metadata": {},
   "source": [
    "### Load a protein in SCN format - you can skip this since a joblib file is provided"
   ]
  },
  {
   "cell_type": "code",
   "execution_count": 4,
   "metadata": {
    "scrolled": true
   },
   "outputs": [
    {
     "name": "stdout",
     "output_type": "stream",
     "text": [
      "SidechainNet was loaded from ./sidechainnet_data/sidechainnet_casp7_30.pkl.\n"
     ]
    },
    {
     "data": {
      "text/plain": [
       "dict_keys(['train', 'train-eval', 'test', 'valid-10', 'valid-20', 'valid-30', 'valid-40', 'valid-50', 'valid-70', 'valid-90'])"
      ]
     },
     "execution_count": 4,
     "metadata": {},
     "output_type": "execute_result"
    }
   ],
   "source": [
    "dataloaders = sidechainnet.load(casp_version=7, with_pytorch=\"dataloaders\")\n",
    "dataloaders.keys() # ['train', 'train_eval', 'valid-10', ..., 'valid-90', 'test']\n",
    "# ProteinDataset(casp_version=12, split='train', n_proteins=81454,\n",
    "#               created='Sep 20, 2020')"
   ]
  },
  {
   "cell_type": "code",
   "execution_count": 5,
   "metadata": {
    "scrolled": true
   },
   "outputs": [
    {
     "name": "stdout",
     "output_type": "stream",
     "text": [
      "seq len 143\n",
      "stopping at sequence of length 143\n",
      "143 torch.Size([143, 12]) tensor(False)\n",
      "paddings:  7 tensor(7)\n"
     ]
    }
   ],
   "source": [
    "min_len = 100\n",
    "for batch in dataloaders['train']:\n",
    "    real_seqs = [''.join([VOCAB.int2char(aa) for aa in seq]) for seq in batch.int_seqs.numpy()]\n",
    "    print(\"seq len\", len(real_seqs[0]))\n",
    "    try:\n",
    "        for i in range(len(batch.int_seqs.numpy())):\n",
    "            # get variables\n",
    "            seq     = real_seqs[i]\n",
    "            int_seq = batch.int_seqs[i]\n",
    "            angles  = batch.angs[i]\n",
    "            # get padding\n",
    "            padding_angles = (torch.abs(angles).sum(dim=-1) == 0).long().sum()\n",
    "            padding_seq    = (np.array([x for x in seq]) == \"_\").sum()\n",
    "            # only accept sequences with right dimensions and no missing coords\n",
    "            # if padding_seq == padding_angles:\n",
    "            # print(\"paddings_match\")\n",
    "            # print(\"len coords\", list(batch.crds[i].shape)[0]//3, \"vs int_seq\", len(int_seq))\n",
    "            \n",
    "            # to retrieve the 112: and batch.pids[i] == \"2F2H_d2f2hf1\":\n",
    "            if list(batch.crds[i].shape)[0]//14 == len(int_seq): #  \n",
    "                if len(seq) > min_len and padding_seq == padding_angles:\n",
    "                    print(\"stopping at sequence of length\", len(seq))\n",
    "                    print(len(seq), angles.shape, padding_seq == padding_angles == list(batch.crds[i].shape)[0]//3)\n",
    "                    print(\"paddings: \", padding_seq, padding_angles)\n",
    "                    raise StopIteration\n",
    "                else:\n",
    "                    print(\"found a seq of length:\", len(seq), \"but below the threshold:\", min_len)\n",
    "    except StopIteration:\n",
    "        break"
   ]
  },
  {
   "cell_type": "markdown",
   "metadata": {},
   "source": [
    "### Load joblib file"
   ]
  },
  {
   "cell_type": "code",
   "execution_count": 6,
   "metadata": {},
   "outputs": [],
   "source": [
    "# joblib.dump({\"seq\": seq, \"int_seq\": int_seq, \"angles\": angles,\n",
    "#              \"id\": batch.pids[i], \"true_coords\": batch.crds[i]}, \"experiments/112_aas_seq_and_angles.joblib\")\n",
    "info = joblib.load(\"experiments/112_aas_seq_and_angles.joblib\")\n",
    "seq, int_seq, angles, id_, true_coords = info[\"seq\"], info[\"int_seq\"], info[\"angles\"], info[\"id\"], info[\"true_coords\"]\n",
    "\n",
    "padding_angles = (torch.abs(angles).sum(dim=-1) == 0).long().sum()\n",
    "padding_seq    = (np.array([x for x in seq]) == \"_\").sum()"
   ]
  },
  {
   "cell_type": "markdown",
   "metadata": {},
   "source": [
    "### Load algo"
   ]
  },
  {
   "cell_type": "code",
   "execution_count": 7,
   "metadata": {},
   "outputs": [],
   "source": [
    "from massive_pnerf import *"
   ]
  },
  {
   "cell_type": "code",
   "execution_count": 8,
   "metadata": {},
   "outputs": [],
   "source": [
    "# measure time to featurize\n",
    "# %timeit build_scaffolds(seq[:-padding_seq], angles[:-padding_seq])"
   ]
  },
  {
   "cell_type": "code",
   "execution_count": 9,
   "metadata": {},
   "outputs": [],
   "source": [
    "# featurize\n",
    "scaffolds  = build_scaffolds_from_scn_angles(seq[:-padding_seq], angles[:-padding_seq])\n",
    "# convert to double\n",
    "scaffolds_ = scaffolds\n",
    "scaffolds_[\"angles_mask\"] = scaffolds_[\"angles_mask\"].double() \n",
    "scaffolds_[\"bond_mask\"]   = scaffolds_[\"bond_mask\"].double() "
   ]
  },
  {
   "cell_type": "code",
   "execution_count": 17,
   "metadata": {
    "scrolled": false
   },
   "outputs": [
    {
     "name": "stdout",
     "output_type": "stream",
     "text": [
      "0 RMSD is: 0.013866866292405692 || abs_error in 3 axis: tensor([0.0086, 0.0078, 0.0082], dtype=torch.float64)\n",
      "1 RMSD is: 0.01156906199104843 || abs_error in 3 axis: tensor([0.0077, 0.0079, 0.0038], dtype=torch.float64)\n",
      "2 RMSD is: 0.017925721484916928 || abs_error in 3 axis: tensor([0.0158, 0.0081, 0.0074], dtype=torch.float64)\n",
      "3 RMSD is: 0.016289638189829845 || abs_error in 3 axis: tensor([0.0067, 0.0140, 0.0082], dtype=torch.float64)\n",
      "4 RMSD is: 0.012404540359724027 || abs_error in 3 axis: tensor([0.0082, 0.0078, 0.0065], dtype=torch.float64)\n",
      "5 RMSD is: 0.015752605248288042 || abs_error in 3 axis: tensor([0.0069, 0.0138, 0.0065], dtype=torch.float64)\n",
      "100 RMSD is: 0.008022129861875754 || abs_error in 3 axis: tensor([0.0056, 0.0044, 0.0044], dtype=torch.float64)\n",
      "200 RMSD is: 0.00814768170460012 || abs_error in 3 axis: tensor([0.0055, 0.0046, 0.0044], dtype=torch.float64)\n",
      "300 RMSD is: 0.008147681704615361 || abs_error in 3 axis: tensor([0.0055, 0.0046, 0.0044], dtype=torch.float64)\n",
      "400 RMSD is: 0.008147681704638103 || abs_error in 3 axis: tensor([0.0055, 0.0046, 0.0044], dtype=torch.float64)\n",
      "500 RMSD is: 0.008147681704659158 || abs_error in 3 axis: tensor([0.0055, 0.0046, 0.0044], dtype=torch.float64)\n",
      "600 RMSD is: 0.008147681704694022 || abs_error in 3 axis: tensor([0.0055, 0.0046, 0.0044], dtype=torch.float64)\n",
      "700 RMSD is: 0.008147681704720279 || abs_error in 3 axis: tensor([0.0055, 0.0046, 0.0044], dtype=torch.float64)\n",
      "800 RMSD is: 0.00814768170475384 || abs_error in 3 axis: tensor([0.0055, 0.0046, 0.0044], dtype=torch.float64)\n",
      "900 RMSD is: 0.008147681704743892 || abs_error in 3 axis: tensor([0.0055, 0.0046, 0.0044], dtype=torch.float64)\n",
      "1000 RMSD is: 0.008147681704783057 || abs_error in 3 axis: tensor([0.0055, 0.0046, 0.0044], dtype=torch.float64)\n"
     ]
    }
   ],
   "source": [
    "# %%timeit\n",
    "n_iters = 1001\n",
    "errors, errors_3d  = [], []\n",
    "coords_wrapper = true_coords[:].double()\n",
    "# do n times and check error\n",
    "for i in range(n_iters):\n",
    "    # modify scaffolds with true data\n",
    "    scaffolds_ = modify_scaffolds_with_coords(scaffolds_.copy(), \n",
    "                                              rearrange(coords_wrapper, '(l c) d -> l c d', c=14)[:-padding_seq])\n",
    "    # scaffolds_ = scaffolds.copy()\n",
    "    \n",
    "    ## convert scaffolds to double\n",
    "\n",
    "    # convert coords - fold\n",
    "    coords, mask = proto_fold(seq[:-padding_seq], **scaffolds_)\n",
    "    coords_flat  = rearrange(coords, 'l c d -> (l c) d')\n",
    "    \n",
    "    \n",
    "    # align i first iter\n",
    "    flat_mask = rearrange(scaffolds_[\"cloud_mask\"], 'l c -> (l c)')\n",
    "    coords_aligned_pre, labels_aligned_pre = kabsch_torch(coords_flat[flat_mask].t(),\n",
    "                                                          true_coords[:].double()[:-14*padding_angles][flat_mask].t())\n",
    "\n",
    "    # create coord scaffolds\n",
    "    scaff_coords_aligned = torch.zeros_like(coords_flat)\n",
    "    scaff_labels_aligned = torch.zeros_like(coords_flat)\n",
    "    # fill\n",
    "    scaff_coords_aligned[flat_mask] = coords_aligned_pre.t()\n",
    "    scaff_labels_aligned[flat_mask] = labels_aligned_pre.t()\n",
    "    # replace vars\n",
    "    coords_aligned, labels_aligned = scaff_coords_aligned, scaff_labels_aligned\n",
    "        \n",
    "    # record evolution\n",
    "    errors.append(rmsd_torch(coords_aligned, labels_aligned).item())\n",
    "    errors_3d.append( (coords_aligned - labels_aligned).abs().mean(dim=-2) ) # [0])\n",
    "    if i % 100 == 0 or i in [1,2,3,4,5]:\n",
    "        print(i, \"RMSD is:\", errors[-1], \"|| abs_error in 3 axis:\", errors_3d[-1])\n",
    "    \n",
    "    # update coords\n",
    "    coords_wrapper = torch.zeros_like( rearrange(coords_wrapper, '(l c) d -> l c d', c=14) )\n",
    "    coords_wrapper[:-padding_angles] = rearrange(coords_flat, '(l c) d -> l c d', c=14)\n",
    "    coords_wrapper = rearrange(coords_wrapper, 'l c d -> (l c) d')\n",
    "    "
   ]
  },
  {
   "cell_type": "markdown",
   "metadata": {},
   "source": [
    "### Debug"
   ]
  },
  {
   "cell_type": "code",
   "execution_count": 18,
   "metadata": {},
   "outputs": [],
   "source": [
    "import matplotlib.pyplot as plt"
   ]
  },
  {
   "cell_type": "code",
   "execution_count": 19,
   "metadata": {},
   "outputs": [
    {
     "data": {
      "image/png": "[encoded data removed]",
      "text/plain": [
       "<Figure size 432x288 with 1 Axes>"
      ]
     },
     "metadata": {
      "needs_background": "light"
     },
     "output_type": "display_data"
    }
   ],
   "source": [
    "plt.title(\"Histogram of absolute error distrobution\")\n",
    "plt.hist( (coords_aligned - labels_aligned).abs().numpy()[:, 0], alpha=0.3, density=True, label=\"x_axis_distro\")\n",
    "plt.hist( (coords_aligned - labels_aligned).abs().numpy()[:, 1], alpha=0.3, density=True, label=\"y_axis_distro\")\n",
    "plt.hist( (coords_aligned - labels_aligned).abs().numpy()[:, 2], alpha=0.3, density=True, label=\"z_axis_distro\")\n",
    "plt.legend()\n",
    "plt.ylabel(\"density\")\n",
    "plt.xlabel(\"Abs Error (Angstroms)\")\n",
    "plt.show()"
   ]
  },
  {
   "cell_type": "code",
   "execution_count": 20,
   "metadata": {},
   "outputs": [],
   "source": [
    "sb = sidechainnet.StructureBuilder(int_seq, crd=coords_aligned) \n",
    "sb.to_pdb(\"preds/predicted_112.pdb\")\n",
    "sb = sidechainnet.StructureBuilder(int_seq, crd=labels_aligned) \n",
    "sb.to_pdb(\"preds/labels_112.pdb\")"
   ]
  },
  {
   "cell_type": "markdown",
   "metadata": {},
   "source": [
    "### Make cool plot"
   ]
  },
  {
   "cell_type": "code",
   "execution_count": 21,
   "metadata": {},
   "outputs": [],
   "source": [
    "joblib.dump({\"rmsd\": errors, \"axis_abs\": torch.stack(errors_3d, dim=0)}, \"experiments/looping_error.joblib\")\n",
    "data = joblib.load(\"experiments/looping_error.joblib\")"
   ]
  },
  {
   "cell_type": "code",
   "execution_count": 22,
   "metadata": {},
   "outputs": [
    {
     "data": {
      "image/png": "[encoded data removed]",
      "text/plain": [
       "<Figure size 432x288 with 1 Axes>"
      ]
     },
     "metadata": {
      "needs_background": "light"
     },
     "output_type": "display_data"
    },
    {
     "data": {
      "image/png": "[encoded data removed]",
      "text/plain": [
       "<Figure size 432x288 with 1 Axes>"
      ]
     },
     "metadata": {
      "needs_background": "light"
     },
     "output_type": "display_data"
    }
   ],
   "source": [
    "# RMSD\n",
    "plt.title(\"Cumulative Error Evolution\")\n",
    "plt.plot(errors, 'r--', label=\"Cumulative RMSD\")\n",
    "plt.ylabel(\"RMSD (Angstroms)\")\n",
    "plt.xlabel(\"Iterations\")\n",
    "plt.legend()\n",
    "plt.show()\n",
    "\n",
    "# 3d axis ABS ERROR\n",
    "plt.title(\"Cumulative Mean Absolute Error Evolution\")\n",
    "plt.plot(data[\"axis_abs\"][:, 0].numpy(), 'c--', label=\"x axis\")\n",
    "plt.plot(data[\"axis_abs\"][:, 1].numpy(), 'm--', label=\"y axis\")\n",
    "plt.plot(data[\"axis_abs\"][:, 2].numpy(), 'k--', label=\"z axis\")\n",
    "plt.ylabel(\"Absolute Error (Angstroms)\")\n",
    "plt.xlabel(\"Iterations\")\n",
    "plt.legend()\n",
    "plt.show()"
   ]
  },
  {
   "cell_type": "code",
   "execution_count": null,
   "metadata": {},
   "outputs": [],
   "source": []
  }
 ],
 "metadata": {
  "kernelspec": {
   "display_name": "assistant",
   "language": "python",
   "name": "assistant"
  },
  "language_info": {
   "codemirror_mode": {
    "name": "ipython",
    "version": 3
   },
   "file_extension": ".py",
   "mimetype": "text/x-python",
   "name": "python",
   "nbconvert_exporter": "python",
   "pygments_lexer": "ipython3",
   "version": "3.7.9"
  }
 },
 "nbformat": 4,
 "nbformat_minor": 4
}
